{
 "cells": [
  {
   "cell_type": "markdown",
   "metadata": {},
   "source": [
    "# Neighborhood sizes in 2D and 3D"
   ]
  },
  {
   "cell_type": "code",
   "execution_count": 1,
   "metadata": {},
   "outputs": [],
   "source": [
    "## Imports\n",
    "import squidpy as sq\n",
    "import anndata as ad ## using anndata until sq is spatialdata-compatible\n",
    "import glob\n",
    "import pandas as pd\n",
    "import numpy as np\n",
    "import matplotlib.pyplot as plt\n",
    "import seaborn as sns\n",
    "from scipy.spatial import cKDTree\n",
    "from scipy.stats import linregress"
   ]
  },
  {
   "cell_type": "code",
   "execution_count": 2,
   "metadata": {},
   "outputs": [
    {
     "name": "stderr",
     "output_type": "stream",
     "text": [
      "/home/gesa/.py_venv/squidpy/lib/python3.12/site-packages/anndata/_core/aligned_df.py:68: ImplicitModificationWarning: Transforming to str index.\n",
      "  warnings.warn(\"Transforming to str index.\", ImplicitModificationWarning)\n"
     ]
    },
    {
     "data": {
      "text/plain": [
       "AnnData object with n_obs × n_vars = 108486 × 0\n",
       "    obs: 'phenotype'\n",
       "    obsm: 'spatial'"
      ]
     },
     "execution_count": 2,
     "metadata": {},
     "output_type": "execute_result"
    }
   ],
   "source": [
    "## Load 3D centroids & phenotype information\n",
    "centroids_3D = pd.read_csv('../../data/Kuett_2022/MainHer2BreastCancerModel/measured_mask_centroids_3D.csv')\n",
    "phenotypes = pd.read_csv('../../data/Kuett_2022/MainHer2BreastCancerModel/model201710_cluster_labels_phenograph_recoded.csv')\n",
    "\n",
    "adata3 = ad.AnnData(obs=pd.merge(centroids_3D['id'], phenotypes[['id','ct_broad']], on='id', how='left').rename(columns={'ct_broad':'phenotype'}).drop(columns='id'),\n",
    "                    obsm={'spatial': centroids_3D[['x', 'y', 'z']].values})\n",
    "adata3"
   ]
  },
  {
   "cell_type": "code",
   "execution_count": 3,
   "metadata": {},
   "outputs": [
    {
     "name": "stdout",
     "output_type": "stream",
     "text": [
      "Selected 43 files\n",
      "n_cells 2D: 107374; 3D: 108486\n"
     ]
    }
   ],
   "source": [
    "## Choose 2D files for comparison\n",
    "# We want an approx. equivalent number of cells in 2D and 3D\n",
    "# such that variability in 2D is not due to fewer cells\n",
    "fn_2D = \"../../data/Kuett_2022/MainHer2BreastCancerModel/measured_mask_centroids_2D/measured_mask_centroids_2D_*.csv\"\n",
    "\n",
    "files_2D = np.array(glob.glob(fn_2D)) ## list of files (full path)\n",
    "\n",
    "## Get mean n_cells in 2D\n",
    "n_cells_2D = np.empty(len(files_2D), dtype=int)\n",
    "for i, file in enumerate(files_2D):\n",
    "    with open(file) as f:\n",
    "        n_cells_2D[i] = sum(1 for line in f)-1 ## without header\n",
    "n_slices = int(np.round(centroids_3D.shape[0] / n_cells_2D.mean()))\n",
    "\n",
    "## Choose files at random\n",
    "rng = np.random.default_rng(42) \n",
    "rand = rng.choice(len(files_2D), size=n_slices, replace=False)\n",
    "files_2D_selection = files_2D[rand]\n",
    "print(f\"Selected {n_slices} files\")\n",
    "print(f\"n_cells 2D: {n_cells_2D[rand].sum()}; 3D: {centroids_3D.shape[0]}\")"
   ]
  },
  {
   "cell_type": "code",
   "execution_count": 4,
   "metadata": {},
   "outputs": [
    {
     "data": {
      "text/plain": [
       "43"
      ]
     },
     "execution_count": 4,
     "metadata": {},
     "output_type": "execute_result"
    }
   ],
   "source": [
    "## Load 2D data\n",
    "# squidpy currently requires one AnnData object per image\n",
    "centroids_2D = pd.concat([pd.read_csv(file) for file in files_2D_selection])\n",
    "\n",
    "phenotypes.set_index('id', inplace=True)\n",
    "adata2 = [ ad.AnnData(obs = pd.DataFrame( {'phenotype': phenotypes.loc[ centroids_2D.loc[ centroids_2D['z'] == i, 'id'], 'ct_broad' ].values},\n",
    "                                          index=np.arange((centroids_2D['z'] == i).sum()).astype(str) ),\n",
    "                      obsm = {'spatial': centroids_2D.loc[ centroids_2D['z'] == i, ['x', 'y']].values})\n",
    "                      for i in np.unique(centroids_2D['z']) ]\n",
    "phenotypes.reset_index(drop=False, inplace=True)\n",
    "len(adata2)"
   ]
  },
  {
   "cell_type": "code",
   "execution_count": 5,
   "metadata": {},
   "outputs": [
    {
     "name": "stdout",
     "output_type": "stream",
     "text": [
      "2D median: 6.8 μm\n",
      "3D median: 6.48 μm\n"
     ]
    },
    {
     "data": {
      "image/png": "[encoded data removed]",
      "text/plain": [
       "<Figure size 250x180 with 1 Axes>"
      ]
     },
     "metadata": {},
     "output_type": "display_data"
    }
   ],
   "source": [
    "## Min dist between cells\n",
    "def min_dist_cells(adata):\n",
    "    tree = cKDTree(adata.obsm['spatial'])\n",
    "    dists = tree.query(adata.obsm['spatial'], k=2)[0][:,1]\n",
    "    return dists\n",
    "dists_2D = [ min_dist_cells(adata) for adata in adata2 ]\n",
    "dists_3D = min_dist_cells(adata3)\n",
    "dists_2D = np.concatenate(dists_2D)\n",
    "\n",
    "median_2D = np.median(dists_2D)\n",
    "median_3D = np.median(dists_3D)\n",
    "\n",
    "# Plot\n",
    "print(f\"2D median: {median_2D:.2} μm\\n3D median: {median_3D:.2f} μm\")\n",
    "plt.subplots(figsize=(2.5,1.8))\n",
    "plt.hist(dists_2D, bins=100, alpha=0.5, density=True, label='2D')\n",
    "plt.hist(dists_3D, bins=100, alpha=0.5, density=True, label='3D')\n",
    "plt.axvline(median_2D, color='steelblue', linestyle='dashed', linewidth=2, label='2D median')\n",
    "plt.axvline(median_3D, color='chocolate', linestyle='dashed', linewidth=2, label='3D median')\n",
    "plt.xlim(0, 18)\n",
    "plt.title('Minimum distance between cells')\n",
    "plt.xlabel('Distance [μm]\\nvalues > 18 μm not shown')\n",
    "plt.ylabel('Density')\n",
    "plt.legend(bbox_to_anchor=(.7, 1), loc='upper left')\n",
    "sns.despine(top=True, right=True)\n",
    "\n",
    "#plt.savefig('../../figures/nbh_size_minimum_distance_between_cells.svg', bbox_inches='tight')\n",
    "plt.show()"
   ]
  },
  {
   "cell_type": "code",
   "execution_count": null,
   "metadata": {},
   "outputs": [
    {
     "name": "stdout",
     "output_type": "stream",
     "text": [
      "p-value: 0.00e+00\n"
     ]
    }
   ],
   "source": [
    "from scipy.stats import mannwhitneyu\n",
    "stat, p = mannwhitneyu(dists_2D, dists_3D, alternative='greater')\n",
    "print(f\"p-value: {p:.2e}\")"
   ]
  },
  {
   "cell_type": "code",
   "execution_count": 6,
   "metadata": {},
   "outputs": [
    {
     "data": {
      "text/html": [
       "<div>\n",
       "<style scoped>\n",
       "    .dataframe tbody tr th:only-of-type {\n",
       "        vertical-align: middle;\n",
       "    }\n",
       "\n",
       "    .dataframe tbody tr th {\n",
       "        vertical-align: top;\n",
       "    }\n",
       "\n",
       "    .dataframe thead th {\n",
       "        text-align: right;\n",
       "    }\n",
       "</style>\n",
       "<table border=\"1\" class=\"dataframe\">\n",
       "  <thead>\n",
       "    <tr style=\"text-align: right;\">\n",
       "      <th></th>\n",
       "      <th>radius</th>\n",
       "      <th>mean_2</th>\n",
       "      <th>sdev_2</th>\n",
       "      <th>mean_3</th>\n",
       "      <th>sdev_3</th>\n",
       "    </tr>\n",
       "  </thead>\n",
       "  <tbody>\n",
       "    <tr>\n",
       "      <th>0</th>\n",
       "      <td>10</td>\n",
       "      <td>1.94671</td>\n",
       "      <td>1.246079</td>\n",
       "      <td>4.428498</td>\n",
       "      <td>2.086939</td>\n",
       "    </tr>\n",
       "    <tr>\n",
       "      <th>1</th>\n",
       "      <td>20</td>\n",
       "      <td>9.858066</td>\n",
       "      <td>3.180636</td>\n",
       "      <td>38.229357</td>\n",
       "      <td>11.110664</td>\n",
       "    </tr>\n",
       "    <tr>\n",
       "      <th>2</th>\n",
       "      <td>30</td>\n",
       "      <td>22.289325</td>\n",
       "      <td>6.293464</td>\n",
       "      <td>124.958704</td>\n",
       "      <td>35.061542</td>\n",
       "    </tr>\n",
       "    <tr>\n",
       "      <th>3</th>\n",
       "      <td>40</td>\n",
       "      <td>39.134818</td>\n",
       "      <td>10.546328</td>\n",
       "      <td>286.74216</td>\n",
       "      <td>82.085327</td>\n",
       "    </tr>\n",
       "    <tr>\n",
       "      <th>4</th>\n",
       "      <td>50</td>\n",
       "      <td>60.213851</td>\n",
       "      <td>16.028763</td>\n",
       "      <td>542.962631</td>\n",
       "      <td>160.204455</td>\n",
       "    </tr>\n",
       "  </tbody>\n",
       "</table>\n",
       "</div>"
      ],
      "text/plain": [
       "   radius     mean_2     sdev_2      mean_3      sdev_3\n",
       "0      10    1.94671   1.246079    4.428498    2.086939\n",
       "1      20   9.858066   3.180636   38.229357   11.110664\n",
       "2      30  22.289325   6.293464  124.958704   35.061542\n",
       "3      40  39.134818  10.546328   286.74216   82.085327\n",
       "4      50  60.213851  16.028763  542.962631  160.204455"
      ]
     },
     "execution_count": 6,
     "metadata": {},
     "output_type": "execute_result"
    }
   ],
   "source": [
    "## Get number of neighbors for a range of radii\n",
    "def get_knns(adata, radius):\n",
    "    # Build spatial graph\n",
    "    connectivities, _ = sq.gr.spatial_neighbors(adata, spatial_key=\"spatial\", coord_type='generic',\n",
    "                                                delaunay=False, radius=radius, copy=True)\n",
    "    # Get number of neighbors per cell\n",
    "    nneighbors = np.array(connectivities.sum(1)).squeeze()\n",
    "    return nneighbors\n",
    "\n",
    "radii = np.arange(10, 51, 10)\n",
    "knns = pd.DataFrame(columns=['radius','mean_2','sdev_2', 'mean_3', 'sdev_3'])\n",
    "knns['radius'] = radii\n",
    "for radius in radii:\n",
    "    radius = int(radius) # type conversion for squidpy function\n",
    "    # in 2D\n",
    "    nn2 = get_knns(adata2[0], radius)\n",
    "    for adata in adata2[1:]:\n",
    "        nn2 = np.append(nn2, get_knns(adata, radius))\n",
    "    knns.loc[knns['radius'] == radius, ['mean_2', 'sdev_2']] = [nn2.mean(), nn2.std()]\n",
    "    # in 3D\n",
    "    nn3 = get_knns(adata3, radius)\n",
    "    knns.loc[knns['radius'] == radius, ['mean_3', 'sdev_3']] = [nn3.mean(), nn3.std()]\n",
    "knns"
   ]
  },
  {
   "cell_type": "code",
   "execution_count": null,
   "metadata": {},
   "outputs": [],
   "source": [
    "## Sanity check\n",
    "radius = 10\n",
    "connectivities, distances = sq.gr.spatial_neighbors(adata3, spatial_key=\"spatial\", coord_type='generic',\n",
    "                                                    delaunay=False, radius=radius, copy=True)\n",
    "assert distances.max() <= radius # no distance > radius\n",
    "pt0 = adata3.obsm['spatial'][0]\n",
    "pt1 = adata3.obsm['spatial'][distances.indices[0]] # a neighbor of pt0\n",
    "assert distances.data[0] == np.sqrt(((pt0 - pt1)**2).sum()) # distance calc. by squidpy == calc. by hand"
   ]
  },
  {
   "cell_type": "code",
   "execution_count": null,
   "metadata": {},
   "outputs": [
    {
     "data": {
      "image/png": "[encoded data removed]",
      "text/plain": [
       "<Figure size 400x200 with 2 Axes>"
      ]
     },
     "metadata": {},
     "output_type": "display_data"
    }
   ],
   "source": [
    "## Plot\n",
    "fig, ax = plt.subplots(1, 2, figsize=(4,2), layout='constrained')\n",
    "for i in [2, 3]:\n",
    "        ax[i-2].bar(knns['radius'], knns[f'mean_{i}'], yerr=knns[f'sdev_{i}'], width=7, capsize=2)\n",
    "        ax[i-2].set_xticks(knns['radius'])\n",
    "        ax[i-2].set_title(f'{i}D')\n",
    "        ax[i-2].set_xlabel('NBH radius [μm]')\n",
    "ax[0].set_ylabel('Mean number\\nof neighbors')\n",
    "sns.despine(top=True, right=True)\n",
    "\n",
    "#plt.savefig('../../figures/nbh_size_knn_2D_3D_barplot.svg', bbox_inches='tight')\n",
    "plt.show()"
   ]
  },
  {
   "cell_type": "code",
   "execution_count": 9,
   "metadata": {},
   "outputs": [
    {
     "name": "stdout",
     "output_type": "stream",
     "text": [
      "y = 1.40 x + 0.51\n",
      "ρ = 1.00, p = 0.00\n"
     ]
    },
    {
     "data": {
      "image/png": "[encoded data removed]",
      "text/plain": [
       "<Figure size 180x180 with 1 Axes>"
      ]
     },
     "metadata": {},
     "output_type": "display_data"
    }
   ],
   "source": [
    "## Find linear relationship between variables\n",
    "slope, intercept, r_value, p_value, std_err = linregress(np.log(knns['mean_2'].values.astype(float)), np.log([knns['mean_3'].values.astype(float)]))\n",
    "print(f'y = {slope:.2f} x + {intercept:.2f}\\nρ = {r_value:.2f}, p = {p_value:.2f}')\n",
    "\n",
    "plt.subplots(figsize=(1.8,1.8))\n",
    "plt.scatter(knns['mean_2'], knns['mean_3'], s=10)\n",
    "plt.xscale('log')\n",
    "plt.yscale('log')\n",
    "plt.title('Mean number\\nof neighbors')\n",
    "plt.xlabel('in 2D')\n",
    "plt.ylabel('in 3D')\n",
    "plt.show()"
   ]
  },
  {
   "cell_type": "markdown",
   "metadata": {},
   "source": [
    "Let's check whether the number of neighbors makes sense geometrically. For simplicity, we use the assumption that the cells are approximately equally distributed in space, such that the number of cells in an area/volume can be used as a unit of area/volume itself. We then expect the following relationship:\n",
    "- area of a circle: $A = π r^2$\n",
    "- volume of a sphere: $V = 4/3 π r^3$\n",
    "- expected relationship: $A / V = knn_{2D} / knn_{3D} = 3/(4r)$"
   ]
  },
  {
   "cell_type": "code",
   "execution_count": null,
   "metadata": {},
   "outputs": [
    {
     "name": "stdout",
     "output_type": "stream",
     "text": [
      "y = 7.17 x + 0.01\n",
      "ρ = 1.00, p = 0.00\n"
     ]
    },
    {
     "data": {
      "image/png": "[encoded data removed]",
      "text/plain": [
       "<Figure size 210x180 with 1 Axes>"
      ]
     },
     "metadata": {},
     "output_type": "display_data"
    }
   ],
   "source": [
    "x = np.array( 3 / ( 4 * knns['radius'] ) ).astype(float)\n",
    "y = np.array( (knns['mean_2']+1) / (knns['mean_3']+1) ).astype(float) # +1 to add index cell\n",
    "\n",
    "slope, intercept, r_value, p_value, std_err = linregress(x, y)\n",
    "print(f'y = {slope:.2f} x + {intercept:.2f}\\nρ = {r_value:.2f}, p = {p_value:.2f}')\n",
    "\n",
    "plt.subplots(figsize=(2.1,1.8))\n",
    "plt.scatter(x, y, label='data', s=7, zorder=2.5, color='darkblue')\n",
    "plt.axline((0, intercept), slope=slope, label=f'linear fit', color='lightblue')\n",
    "plt.xlim(0)\n",
    "plt.ylim(0)\n",
    "plt.xlabel('Area / volume [1/μm]')\n",
    "plt.ylabel('# cells within radius:\\n2D / 3D')\n",
    "plt.legend(bbox_to_anchor=(1.2,0), loc='lower right')\n",
    "sns.despine(top=True, right=True)\n",
    "\n",
    "#plt.savefig('../../figures/nbh_size_knn_2D_3D_geom.svg', bbox_inches='tight')\n",
    "plt.show() "
   ]
  },
  {
   "cell_type": "code",
   "execution_count": null,
   "metadata": {},
   "outputs": [],
   "source": [
    "# Create a table to relate knn values between 2D and 3D\n",
    "outfile = '../../data/nbh_size_knn.csv'\n",
    "\n",
    "# Interpolate\n",
    "# 2D and 3D values grow exponentially, but at different rates\n",
    "knns_2D = np.arange(3,61)\n",
    "knns_3D = np.exp(\n",
    "    np.interp(np.log( knns_2D ), \n",
    "    np.log( knns['mean_2'].astype(float) ),\n",
    "    np.log( knns['mean_3'].astype(float) ) ) )\n",
    "knns_interp = pd.DataFrame({'knn_2D': knns_2D, 'knn_3D': np.round(knns_3D).astype(int)})\n",
    "\n",
    "# Save to file\n",
    "knns_interp.to_csv(outfile, sep=\",\", index=False)"
   ]
  },
  {
   "cell_type": "code",
   "execution_count": 7,
   "metadata": {},
   "outputs": [
    {
     "name": "stdout",
     "output_type": "stream",
     "text": [
      "2D → 3D neighbors:\n",
      "5 →  16\n",
      "10 →  39\n",
      "20 → 107\n",
      "50 → 412\n"
     ]
    },
    {
     "data": {
      "image/png": "[encoded data removed]",
      "text/plain": [
       "<Figure size 200x200 with 1 Axes>"
      ]
     },
     "metadata": {},
     "output_type": "display_data"
    }
   ],
   "source": [
    "## Plot interpolated data\n",
    "# Sample values\n",
    "sample_knns = [5,10,20,50]\n",
    "print('2D → 3D neighbors:')\n",
    "for knn in sample_knns:\n",
    "    print(f\"{knn} → {knns_interp.loc[knns_interp['knn_2D'] == knn, 'knn_3D'].values[0]:3d}\")\n",
    "\n",
    "# Plot (sanity check)\n",
    "plt.subplots(figsize=(2,2))\n",
    "plt.scatter(knns_interp['knn_2D'], knns_interp['knn_3D'],\n",
    "            s=2, alpha=.8, color='darkblue',\n",
    "            label='Interpolated data')\n",
    "plt.scatter((knns['mean_2']+1).values.astype(float),\n",
    "            (knns['mean_3']+1).values.astype(float),\n",
    "            s=5, color='red',\n",
    "            label='Empirical data')\n",
    "plt.legend(bbox_to_anchor=(2.2,1.01), loc='upper right')\n",
    "plt.xlabel('# 2D neighbors')\n",
    "plt.ylabel('# 3D neighbors')\n",
    "\n",
    "#plt.savefig('../../figures/presentation/nbh_size_knn_2D_3D_interpolated.svg', bbox_inches='tight')\n",
    "plt.show()"
   ]
  },
  {
   "cell_type": "code",
   "execution_count": null,
   "metadata": {},
   "outputs": [],
   "source": [
    "## Number of neighbors using Delaunay triangulation\n",
    "def get_knns_delaunay(adata):\n",
    "    connectivities, _ = sq.gr.spatial_neighbors(adata, spatial_key=\"spatial\", coord_type='generic',\n",
    "                                                delaunay=True, copy=True)\n",
    "    nneighbors = np.array(connectivities.sum(1)).squeeze()\n",
    "    return nneighbors\n",
    "# in 2D\n",
    "nn2 = get_knns_delaunay(adata2[0])\n",
    "for adata in adata2[1:]:\n",
    "    nn2 = np.append(nn2, get_knns_delaunay(adata))\n",
    "# in 3D\n",
    "nn3 = get_knns_delaunay(adata3)"
   ]
  },
  {
   "cell_type": "code",
   "execution_count": 15,
   "metadata": {},
   "outputs": [
    {
     "name": "stdout",
     "output_type": "stream",
     "text": [
      "median 2D: 6, 3D: 15\n"
     ]
    },
    {
     "data": {
      "image/png": "[encoded data removed]",
      "text/plain": [
       "<Figure size 250x180 with 1 Axes>"
      ]
     },
     "metadata": {},
     "output_type": "display_data"
    }
   ],
   "source": [
    "## Plot\n",
    "print(f'median 2D: {int(np.median(nn2))}, 3D: {int(np.median(nn3))}')\n",
    "\n",
    "plt.subplots(figsize=(2.5,1.8))\n",
    "bins = np.arange(0, max(nn2.max(), nn3.max())+1, 1)-.5\n",
    "plt.hist(nn2, bins=bins, density=True, alpha=0.5, label='2D')\n",
    "plt.hist(nn3, bins=bins, density=True, alpha=0.5, label='3D')\n",
    "plt.title('Delaunay triangulation')\n",
    "plt.xlabel('Number of neighbors')\n",
    "plt.ylabel('Density')\n",
    "plt.xlim(0,30)\n",
    "sns.despine(top=True, right=True)\n",
    "plt.legend(bbox_to_anchor=(.6, 1), loc='upper left')\n",
    "\n",
    "#plt.savefig('../../figures/nbh_size_delaunay_2D_3D.svg', bbox_inches='tight')\n",
    "plt.show()"
   ]
  },
  {
   "cell_type": "code",
   "execution_count": null,
   "metadata": {},
   "outputs": [],
   "source": [
    "## Save environment specs\n",
    "!pip freeze > ../../environment/nbh_size.txt"
   ]
  }
 ],
 "metadata": {
  "kernelspec": {
   "display_name": "squidpy",
   "language": "python",
   "name": "python3"
  },
  "language_info": {
   "codemirror_mode": {
    "name": "ipython",
    "version": 3
   },
   "file_extension": ".py",
   "mimetype": "text/x-python",
   "name": "python",
   "nbconvert_exporter": "python",
   "pygments_lexer": "ipython3",
   "version": "3.12.3"
  }
 },
 "nbformat": 4,
 "nbformat_minor": 2
}
