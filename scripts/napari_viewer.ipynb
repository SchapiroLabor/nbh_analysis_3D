{
 "cells": [
  {
   "cell_type": "markdown",
   "metadata": {},
   "source": [
    "# View 3D images using napari"
   ]
  },
  {
   "cell_type": "code",
   "execution_count": 2,
   "metadata": {},
   "outputs": [],
   "source": [
    "import numpy as np\n",
    "import pandas as pd\n",
    "import tifffile\n",
    "import napari\n",
    "from scipy.ndimage import label"
   ]
  },
  {
   "cell_type": "code",
   "execution_count": 3,
   "metadata": {},
   "outputs": [
    {
     "data": {
      "text/plain": [
       "(152, 488, 652)"
      ]
     },
     "execution_count": 3,
     "metadata": {},
     "output_type": "execute_result"
    }
   ],
   "source": [
    "# Load the segmentation mask\n",
    "mask_file = \"../data/Kuett_2022/MainHer2BreastCancerModel/measured_mask_final_segmentation_hwatershed_500.00_90%.tif\"\n",
    "\n",
    "segmentation_mask = tifffile.imread(mask_file)\n",
    "segmentation_mask = segmentation_mask.astype(np.uint32) ## Needs to match cell id type\n",
    "segmentation_mask.shape"
   ]
  },
  {
   "cell_type": "code",
   "execution_count": null,
   "metadata": {},
   "outputs": [
    {
     "name": "stderr",
     "output_type": "stream",
     "text": [
      "/home/gesa/.py_venv/napari/lib/python3.12/site-packages/napari/plugins/_plugin_manager.py:555: UserWarning: Plugin 'napari_skimage_regionprops2' has already registered a function widget 'duplicate current frame' which has now been overwritten\n",
      "  warn(message=warn_message)\n"
     ]
    },
    {
     "name": "stderr",
     "output_type": "stream",
     "text": [
      "WARNING: Wayland does not support QWindow::requestActivate()\n",
      "WARNING: Wayland does not support QWindow::requestActivate()\n",
      "WARNING: Wayland does not support QWindow::requestActivate()\n",
      "WARNING: Wayland does not support QWindow::requestActivate()\n",
      "WARNING: Wayland does not support QWindow::requestActivate()\n",
      "WARNING: Wayland does not support QWindow::requestActivate()\n"
     ]
    }
   ],
   "source": [
    "# Optional: View full segmentation mask\n",
    "viewer = napari.Viewer(ndisplay=3)\n",
    "viewer.add_image(\n",
    "    segmentation_mask>0, # binarize\n",
    "    name='segmentation_mask', \n",
    "    scale=[2,1,1], # z-axis scaling\n",
    "    colormap='gray', \n",
    "    blending='minimum', \n",
    "    contrast_limits=(0, 1), \n",
    "    rendering='attenuated_mip',\n",
    "    opacity=0.5\n",
    ")\n",
    "viewer.dims.order = (0,1,2) # Adjust as needed\n",
    "                            # use (1,0,2) to display z axis on y axis ('height')\n",
    "napari.run()"
   ]
  },
  {
   "cell_type": "code",
   "execution_count": 23,
   "metadata": {},
   "outputs": [],
   "source": [
    "# Load the phenotypes table\n",
    "categories_file = '../data/Kuett_2022/MainHer2BreastCancerModel/model201710_cluster_labels_phenograph_recoded.csv'\n",
    "cell_id_col = 'id' ## column with cell IDs\n",
    "def load_phenotype(file: str, cell_id_col: str, categories_col: str) -> pd.DataFrame:\n",
    "    phenotypes = pd.read_csv(file)\n",
    "    phenotypes = phenotypes.rename(columns={cell_id_col: 'id', categories_col: 'phenotype'})\n",
    "    phenotypes['id'] = phenotypes['id'].astype(np.uint32) ## needs to match cell id type\n",
    "    return phenotypes"
   ]
  },
  {
   "cell_type": "code",
   "execution_count": 18,
   "metadata": {},
   "outputs": [],
   "source": [
    "## Parameters to view 'pattern1' in Kuett et al. (2022):\n",
    "# \"we observed a clear tendency of CD45+CD3+ T cells (cluster 13 and 18) \n",
    "# to cluster around the vWF+CD31+ endothelial cells (cluster 21)\"\n",
    "categories_col = 'phenograph'\n",
    "categories = load_phenotype(categories_file, cell_id_col, categories_col)\n",
    "categories['phenotype'] = categories['phenotype'].astype(str)\n",
    "categories.loc[ (categories['phenotype']=='13') | (categories['phenotype']=='18'), 'phenotype' ] = 'T cell' # rename\n",
    "categories.loc[ categories['phenotype']=='21' , 'phenotype'] = 'Endothelial cell'\n",
    "cats_to_show = ['T cell', 'Endothelial cell']"
   ]
  },
  {
   "cell_type": "code",
   "execution_count": 15,
   "metadata": {},
   "outputs": [],
   "source": [
    "## Parameters to view 'pattern2' in Kuett et al. (2022):\n",
    "# \"we observed spatial separation of different \n",
    "# subsets of CD68+ cells (clusters 30 and 28)\"\n",
    "categories_col = 'phenograph'\n",
    "categories = load_phenotype(categories_file, cell_id_col, categories_col)\n",
    "categories['phenotype'] = categories['phenotype'].astype(str)\n",
    "categories.loc[ categories['phenotype']=='30', 'phenotype' ] = 'subtype A' # rename\n",
    "categories.loc[ categories['phenotype']=='28', 'phenotype' ] = 'subtype B'\n",
    "cats_to_show = ['subtype A', 'subtype B']"
   ]
  },
  {
   "cell_type": "code",
   "execution_count": 24,
   "metadata": {},
   "outputs": [],
   "source": [
    "## Custom parameters\n",
    "categories_col = 'ct_broad' # which column to use for categories (phenotypes)\n",
    "categories = load_phenotype(categories_file, cell_id_col, categories_col)\n",
    "\n",
    "# Select categories to show\n",
    "#cats_to_show = categories['category'].unique() # all\n",
    "cats_to_show = [ # modify list to show only selected categories\n",
    "    'cancer cell',\n",
    "    'stromal cell',\n",
    "    'myofibroblast'\n",
    "]"
   ]
  },
  {
   "cell_type": "code",
   "execution_count": 25,
   "metadata": {},
   "outputs": [],
   "source": [
    "# Map categories to cell IDs\n",
    "category_to_cell_ids = {\n",
    "    category: categories.loc[categories['phenotype'] == category, 'id'].values\n",
    "    for category in cats_to_show\n",
    "}"
   ]
  },
  {
   "cell_type": "code",
   "execution_count": null,
   "metadata": {},
   "outputs": [
    {
     "name": "stderr",
     "output_type": "stream",
     "text": [
      "/home/gesa/.py_venv/napari/lib/python3.12/site-packages/napari/plugins/_plugin_manager.py:555: UserWarning: Plugin 'napari_skimage_regionprops2' has already registered a function widget 'duplicate current frame' which has now been overwritten\n",
      "  warn(message=warn_message)\n"
     ]
    },
    {
     "name": "stderr",
     "output_type": "stream",
     "text": [
      "WARNING: Wayland does not support QWindow::requestActivate()\n",
      "WARNING: Wayland does not support QWindow::requestActivate()\n",
      "WARNING: Wayland does not support QWindow::requestActivate()\n",
      "WARNING: Wayland does not support QWindow::requestActivate()\n",
      "WARNING: Wayland does not support QWindow::requestActivate()\n",
      "WARNING: Wayland does not support QWindow::requestActivate()\n",
      "WARNING: Wayland does not support QWindow::requestActivate()\n",
      "WARNING: Wayland does not support QWindow::requestActivate()\n",
      "WARNING: Wayland does not support QWindow::requestActivate()\n",
      "WARNING: Wayland does not support QWindow::requestActivate()\n"
     ]
    }
   ],
   "source": [
    "# Prepare Napari viewer\n",
    "viewer = napari.Viewer(ndisplay=3)\n",
    "\n",
    "# Function to extract category-specific regions efficiently\n",
    "def extract_category_mask(segmentation, cell_ids, chunk_size=(50, 100, 100)):\n",
    "    \"\"\"\n",
    "    Extracts a binary mask for the given cell IDs from the segmentation.\n",
    "    Processes the mask in chunks to save memory.\n",
    "    \"\"\"\n",
    "    binary_mask = np.zeros_like(segmentation, dtype=np.uint8)\n",
    "    z_size, y_size, x_size = segmentation.shape\n",
    "\n",
    "    for z_start in range(0, z_size, chunk_size[0]):\n",
    "        for y_start in range(0, y_size, chunk_size[1]):\n",
    "            for x_start in range(0, x_size, chunk_size[2]):\n",
    "                # Define chunk boundaries\n",
    "                z_end = min(z_start + chunk_size[0], z_size)\n",
    "                y_end = min(y_start + chunk_size[1], y_size)\n",
    "                x_end = min(x_start + chunk_size[2], x_size)\n",
    "\n",
    "                # Extract chunk\n",
    "                chunk = segmentation[z_start:z_end, y_start:y_end, x_start:x_end]\n",
    "\n",
    "                # Identify relevant pixels\n",
    "                chunk_mask = np.isin(chunk, cell_ids)\n",
    "                binary_mask[z_start:z_end, y_start:y_end, x_start:x_end] = chunk_mask\n",
    "\n",
    "    return binary_mask\n",
    "\n",
    "# Process and add each category\n",
    "for category, cell_ids in category_to_cell_ids.items():\n",
    "    mask = extract_category_mask(segmentation_mask, cell_ids)\n",
    "    viewer.add_image(                                           # Adjust display as needed\n",
    "        mask, \n",
    "        name=category,\n",
    "        scale=[2,1,1], # z-axis scaling\n",
    "        colormap='blue', \n",
    "        blending='minimum', \n",
    "        contrast_limits=(0, 1), \n",
    "        rendering='attenuated_mip',\n",
    "        opacity=0.5\n",
    "    )\n",
    "\n",
    "viewer.dims.order = (0,1,2) # Adjust as needed\n",
    "                            # use (1,0,2) to display z axis on y axis ('height')\n",
    "napari.run()\n"
   ]
  }
 ],
 "metadata": {
  "kernelspec": {
   "display_name": "napari",
   "language": "python",
   "name": "python3"
  },
  "language_info": {
   "codemirror_mode": {
    "name": "ipython",
    "version": 3
   },
   "file_extension": ".py",
   "mimetype": "text/x-python",
   "name": "python",
   "nbconvert_exporter": "python",
   "pygments_lexer": "ipython3",
   "version": "3.12.3"
  }
 },
 "nbformat": 4,
 "nbformat_minor": 2
}
